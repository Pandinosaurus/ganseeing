{
 "cells": [
  {
   "cell_type": "markdown",
   "metadata": {},
   "source": [
    "# Seeing omissions in a GAN distribution\n",
    "\n",
    "This notebook visualizes omissions in a GAN's distribution by comparing\n",
    "segmentation statistics of generated images with those in the training set.\n",
    "\n",
    "First step: just set up plotting."
   ]
  },
  {
   "cell_type": "code",
   "execution_count": null,
   "metadata": {},
   "outputs": [],
   "source": [
    "%matplotlib inline\n",
    "%config InlineBackend.figure_format = 'retina'\n",
    "\n",
    "import matplotlib.pyplot as plt\n",
    "import matplotlib\n",
    "matplotlib.rcParams.update({\n",
    "   'lines.linewidth': 0.25,\n",
    "   'axes.spines.top': False,\n",
    "   'axes.spines.right': False,\n",
    "   'axes.linewidth': 0.25\n",
    "})\n",
    "import torch, numpy, os\n",
    "from IPython.display import display\n",
    "from importlib import reload"
   ]
  },
  {
   "cell_type": "markdown",
   "metadata": {},
   "source": [
    "Now, load up segmentation statistics for the training data set for a GAN.\n",
    "\n",
    "These depend on having directories of sample images.\n",
    "Run `sample_gans.sh` to generate samples of GAN output.\n",
    "\n",
    "Baseline statistics also depend on having a copy of the lsun training dataset.\n",
    "But since these never change, the precomputed summary statistics can just\n",
    "be downloaded."
   ]
  },
  {
   "cell_type": "code",
   "execution_count": null,
   "metadata": {},
   "outputs": [],
   "source": [
    "from seeing import fsd\n",
    "cachedir = 'results/fsd/cache'\n",
    "\n",
    "download_from = 'http://gandissect.csail.mit.edu/datasets/seeing/'\n",
    "# If set to None, you can download lsun images to recompute baseline stats.\n",
    "# download_from = None\n",
    "\n",
    "true_churches = 'datasets/lsun/church_outdoor_train'\n",
    "true_bedrooms = 'datasets/lsun/bedroom_train'\n",
    "\n",
    "\n",
    "true_churches_tally, true_bedrooms_tally = [\n",
    "    fsd.cached_tally_directory(d, size=10000, cachedir=cachedir, seed=1,\n",
    "                              download_from=download_from)\n",
    "    for d in [true_churches, true_bedrooms]]\n",
    "\n",
    "pgan_churches = 'results/imagesample/church/size_10000'\n",
    "pgan_bedrooms = 'results/imagesample/bedroom/size_10000'\n",
    "\n",
    "pgan_churches_tally, pgan_bedrooms_tally = [\n",
    "    fsd.cached_tally_directory(d, size=10000, cachedir=cachedir, seed=1)\n",
    "    for d in [pgan_churches, pgan_bedrooms]]"
   ]
  },
  {
   "cell_type": "markdown",
   "metadata": {},
   "source": [
    "The following is the plot used in the paper, with a\n",
    "logarithmic-scale summary of common object classes at the top,\n",
    "and a relative-linear-scale summary of deviations at the bottom."
   ]
  },
  {
   "cell_type": "code",
   "execution_count": null,
   "metadata": {},
   "outputs": [],
   "source": [
    "import matplotlib.pyplot as plt\n",
    "from seeing import segmenter\n",
    "\n",
    "def plot_diff(ttally, gtally, title='Objects in Generated vs Training scenes',\n",
    "              count=30, labelleft=True, dpi=100, legend=False):\n",
    "    tresult, gresult = [t.mean(0) for t in [ttally, gtally]]\n",
    "    upp = segmenter.UnifiedParsingSegmenter()\n",
    "    labelnames, catnames = upp.get_label_and_category_names()\n",
    "    x = []\n",
    "    labels = []\n",
    "    gen_amount = []\n",
    "    change_frac = []\n",
    "    true_amount = []\n",
    "    for label in numpy.argsort(-tresult):\n",
    "        if label == 0 or labelnames[label][1] == 'material':\n",
    "            continue\n",
    "        if tresult[label] == 0:\n",
    "            break\n",
    "        x.append(len(x))\n",
    "        labels.append(labelnames[label][0].split()[0])\n",
    "        true_amount.append(tresult[label].item())\n",
    "        gen_amount.append(gresult[label].item())\n",
    "        change_frac.append((float(gresult[label] - tresult[label])\n",
    "                            / tresult[label]))\n",
    "        if len(x) >= count:\n",
    "            break\n",
    "    f, (a1, a0) = plt.subplots(2, 1, gridspec_kw = {'height_ratios':[1.2, 2]}, dpi=dpi)\n",
    "    \n",
    "    a0.bar(x, change_frac, label='relative delta') # , color='cornflowerblue')\n",
    "    a0.set_xticks(x)\n",
    "    a0.set_xticklabels(labels, rotation='vertical')\n",
    "    a0.set_ylabel('relative delta\\n(gen - train) / train')\n",
    "    a0.set_ylim([-1, 1.1])\n",
    "    a0.grid(axis='y', antialiased=False, alpha=0.25)\n",
    "    if legend:\n",
    "        a0.legend(loc=2)\n",
    "    prev_high = None\n",
    "    for ix, cf in enumerate(change_frac):\n",
    "        if cf > 1.15:\n",
    "            if prev_high == (ix - 1):\n",
    "                offset = 0.1\n",
    "            else:\n",
    "                offset = 0.0\n",
    "                prev_high = ix\n",
    "            a0.text(ix, 1.15 + offset, '%.1f' % cf, horizontalalignment='center', size=6)\n",
    "            \n",
    "    a1.bar(x, true_amount, label='training') # , color='cornflowerblue')\n",
    "    a1.plot(x, gen_amount, linewidth=3, color='red', label='generated')\n",
    "    a1.set_yscale('log')\n",
    "    a1.set_ylim(1e-2, 50)\n",
    "    a1.set_yticks([1e-2, 1e-1, 1e+0, 1e+1])\n",
    "\n",
    "    a1.set_ylabel('mean area\\nlog scale')\n",
    "    if legend:\n",
    "        a1.legend()\n",
    "\n",
    "    a1.set_xticks([])\n",
    "    f.tight_layout()\n",
    "    plt.show()\n"
   ]
  },
  {
   "cell_type": "markdown",
   "metadata": {},
   "source": [
    "Here we plot the omissions of the Proggan church model. "
   ]
  },
  {
   "cell_type": "code",
   "execution_count": null,
   "metadata": {
    "scrolled": false
   },
   "outputs": [],
   "source": [
    "plot_diff(true_churches_tally*100, pgan_churches_tally*100, title='', dpi=500, legend=True)"
   ]
  },
  {
   "cell_type": "markdown",
   "metadata": {},
   "source": [
    "The Frechet distance between segmentation statistics can also be computed.  These summarize differences in covariances as well as the differences in the means that are shown in the plot."
   ]
  },
  {
   "cell_type": "code",
   "execution_count": null,
   "metadata": {},
   "outputs": [],
   "source": [
    "from seeing import frechet_distance\n",
    "\n",
    "print(frechet_distance.sample_frechet_distance(true_churches_tally * 100, pgan_churches_tally * 100))\n"
   ]
  },
  {
   "cell_type": "markdown",
   "metadata": {},
   "source": [
    "Here we plot the omissions of the Proggan bedroom model."
   ]
  },
  {
   "cell_type": "code",
   "execution_count": null,
   "metadata": {
    "scrolled": false
   },
   "outputs": [],
   "source": [
    "plot_diff(true_bedrooms_tally*100, pgan_bedrooms_tally*100, title='', dpi=500)"
   ]
  }
 ],
 "metadata": {
  "kernelspec": {
   "display_name": "Python 3",
   "language": "python",
   "name": "python3"
  },
  "language_info": {
   "codemirror_mode": {
    "name": "ipython",
    "version": 3
   },
   "file_extension": ".py",
   "mimetype": "text/x-python",
   "name": "python",
   "nbconvert_exporter": "python",
   "pygments_lexer": "ipython3",
   "version": "3.6.7"
  }
 },
 "nbformat": 4,
 "nbformat_minor": 2
}